{
 "cells": [
  {
   "cell_type": "code",
   "execution_count": 1,
   "id": "b56c708e",
   "metadata": {
    "ExecuteTime": {
     "end_time": "2025-06-14T06:13:13.726197Z",
     "start_time": "2025-06-14T06:13:05.766892Z"
    }
   },
   "outputs": [],
   "source": [
    "import tensorflow_datasets as tfds\n",
    "\n",
    "train_data, test_data = tfds.load(\"imdb_reviews\", as_supervised=True, split=[\"train\", \"test\"])\n",
    "n_features = 1000  # Number of unique words to consider\n",
    "max_length = 75   # CRIT:  len of review to consider"
   ]
  },
  {
   "cell_type": "code",
   "execution_count": 2,
   "id": "80f79875",
   "metadata": {
    "ExecuteTime": {
     "end_time": "2025-06-14T06:13:20.111251Z",
     "start_time": "2025-06-14T06:13:13.734481Z"
    }
   },
   "outputs": [],
   "source": [
    "from tensorflow.keras.layers import TextVectorization\n",
    "\n",
    "v = TextVectorization(output_sequence_length=max_length, output_mode='int')\n",
    "\n",
    "# Smaller batch size may decresase vocab size\n",
    "batch = train_data.batch(1000).as_numpy_iterator()\n",
    "for texts, labels in batch:\n",
    "    v.adapt(texts)"
   ]
  },
  {
   "cell_type": "code",
   "execution_count": 3,
   "id": "4dc40ea8",
   "metadata": {},
   "outputs": [
    {
     "name": "stdout",
     "output_type": "stream",
     "text": [
      "Vocab size: 20463\n"
     ]
    }
   ],
   "source": [
    "# Detrermine n_features and not just fix it at 1000 arbitrarily\n",
    "n_features = v.vocabulary_size()\n",
    "print(\"Vocab size:\", n_features)"
   ]
  },
  {
   "cell_type": "code",
   "execution_count": 4,
   "id": "a7d539ef",
   "metadata": {
    "ExecuteTime": {
     "end_time": "2025-06-14T06:13:20.374925Z",
     "start_time": "2025-06-14T06:13:20.121970Z"
    }
   },
   "outputs": [],
   "source": [
    "def prepare_dataset(dataset):\n",
    "    dataset = dataset.map(lambda text, label: (v(text), label))\n",
    "    # dataset = dataset.map(lambda text, label: (tf.one_hot(text, depth=n_features), label))\n",
    "    return dataset\n",
    "\n",
    "\n",
    "# Prepare the training and testing datasets\n",
    "pro_train = prepare_dataset(train_data).batch(128)\n",
    "pro_test = prepare_dataset(test_data).batch(128)"
   ]
  },
  {
   "cell_type": "code",
   "execution_count": 5,
   "id": "d206678d",
   "metadata": {
    "ExecuteTime": {
     "end_time": "2025-06-14T06:13:20.514485Z",
     "start_time": "2025-06-14T06:13:20.384802Z"
    }
   },
   "outputs": [],
   "source": [
    "from tensorflow.keras.layers import LSTM, Dense, Input, Embedding, Dropout\n",
    "from tensorflow.keras.models import Model\n",
    "from tensorflow.keras.callbacks import EarlyStopping\n",
    "\n",
    "early_stopping = EarlyStopping(monitor='val_loss', patience=5, restore_best_weights=True)\n",
    "\n",
    "\n",
    "inputs = Input(shape=(max_length, ))\n",
    "\n",
    "x = Embedding(input_dim=n_features, output_dim=32)(inputs)\n",
    "\n",
    "x = LSTM(64, recurrent_dropout=0.3, return_sequences=True)(x)\n",
    "x = LSTM(32, recurrent_dropout=0.3)(x)\n",
    "\n",
    "outputs = Dense(1, activation='sigmoid',)(x)\n",
    "\n",
    "model = Model(inputs, outputs)\n",
    "\n",
    "model.compile(\n",
    "    loss='binary_crossentropy',\n",
    "    optimizer='adam',\n",
    "    metrics=['accuracy']\n",
    ")"
   ]
  },
  {
   "cell_type": "code",
   "execution_count": 6,
   "id": "0f17bc00",
   "metadata": {
    "ExecuteTime": {
     "end_time": "2025-06-14T06:16:35.892928Z",
     "start_time": "2025-06-14T06:15:39.578783Z"
    }
   },
   "outputs": [
    {
     "name": "stdout",
     "output_type": "stream",
     "text": [
      "Epoch 1/15\n",
      "\u001b[1m196/196\u001b[0m \u001b[32m━━━━━━━━━━━━━━━━━━━━\u001b[0m\u001b[37m\u001b[0m \u001b[1m39s\u001b[0m 154ms/step - accuracy: 0.6139 - loss: 0.6310 - val_accuracy: 0.7801 - val_loss: 0.4798\n",
      "Epoch 2/15\n",
      "\u001b[1m196/196\u001b[0m \u001b[32m━━━━━━━━━━━━━━━━━━━━\u001b[0m\u001b[37m\u001b[0m \u001b[1m30s\u001b[0m 153ms/step - accuracy: 0.8160 - loss: 0.4301 - val_accuracy: 0.7765 - val_loss: 0.5083\n",
      "Epoch 3/15\n",
      "\u001b[1m196/196\u001b[0m \u001b[32m━━━━━━━━━━━━━━━━━━━━\u001b[0m\u001b[37m\u001b[0m \u001b[1m30s\u001b[0m 153ms/step - accuracy: 0.8489 - loss: 0.3794 - val_accuracy: 0.7732 - val_loss: 0.5205\n",
      "Epoch 4/15\n",
      "\u001b[1m196/196\u001b[0m \u001b[32m━━━━━━━━━━━━━━━━━━━━\u001b[0m\u001b[37m\u001b[0m \u001b[1m30s\u001b[0m 153ms/step - accuracy: 0.8727 - loss: 0.3242 - val_accuracy: 0.7715 - val_loss: 0.5872\n",
      "Epoch 5/15\n",
      "\u001b[1m196/196\u001b[0m \u001b[32m━━━━━━━━━━━━━━━━━━━━\u001b[0m\u001b[37m\u001b[0m \u001b[1m30s\u001b[0m 154ms/step - accuracy: 0.8913 - loss: 0.2904 - val_accuracy: 0.7570 - val_loss: 0.6410\n",
      "Epoch 6/15\n",
      "\u001b[1m196/196\u001b[0m \u001b[32m━━━━━━━━━━━━━━━━━━━━\u001b[0m\u001b[37m\u001b[0m \u001b[1m18s\u001b[0m 89ms/step - accuracy: 0.9045 - loss: 0.2581 - val_accuracy: 0.7494 - val_loss: 0.7062\n"
     ]
    },
    {
     "data": {
      "text/plain": [
       "<keras.src.callbacks.history.History at 0x2ce1b294850>"
      ]
     },
     "execution_count": 6,
     "metadata": {},
     "output_type": "execute_result"
    }
   ],
   "source": [
    "model.fit(pro_train, validation_data=pro_test,\n",
    "          epochs=15, callbacks=early_stopping)"
   ]
  },
  {
   "cell_type": "code",
   "execution_count": 9,
   "id": "63d375f1",
   "metadata": {
    "ExecuteTime": {
     "end_time": "2025-06-14T06:15:38.505713100Z",
     "start_time": "2025-06-14T06:04:08.097686Z"
    }
   },
   "outputs": [
    {
     "name": "stdout",
     "output_type": "stream",
     "text": [
      "\u001b[1m196/196\u001b[0m \u001b[32m━━━━━━━━━━━━━━━━━━━━\u001b[0m\u001b[37m\u001b[0m \u001b[1m5s\u001b[0m 25ms/step - accuracy: 0.7831 - loss: 0.4781\n",
      "Test Loss: 0.4798335134983063\n",
      "Test accuracy: 78.00800204277039 %\n"
     ]
    }
   ],
   "source": [
    "loss, acc = model.evaluate(pro_test)\n",
    "\n",
    "print(\"Test Loss:\", loss)\n",
    "print(\"Test accuracy:\", acc*100,\"%\")"
   ]
  },
  {
   "cell_type": "code",
   "execution_count": null,
   "id": "9b88bba8",
   "metadata": {},
   "outputs": [],
   "source": []
  }
 ],
 "metadata": {
  "kernelspec": {
   "display_name": ".venv",
   "language": "python",
   "name": "python3"
  },
  "language_info": {
   "codemirror_mode": {
    "name": "ipython",
    "version": 3
   },
   "file_extension": ".py",
   "mimetype": "text/x-python",
   "name": "python",
   "nbconvert_exporter": "python",
   "pygments_lexer": "ipython3",
   "version": "3.11.9"
  }
 },
 "nbformat": 4,
 "nbformat_minor": 5
}
